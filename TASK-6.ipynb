{
 "cells": [
  {
   "cell_type": "code",
   "execution_count": 11,
   "id": "0b79849f",
   "metadata": {},
   "outputs": [
    {
     "name": "stdout",
     "output_type": "stream",
     "text": [
      "Even Numbers List: [10, 22, 100]\n",
      "Odd Numbers List: [501, 37, 999, 87, 351]\n"
     ]
    }
   ],
   "source": [
    "# 1. You have been given a Python List [10, 501, 22, 37, 100, 999, 87, 351] your task is to create two List one \n",
    "# which have all the Even Numbers and another List which will have all the ODD numbers in it?\n",
    "\n",
    "list = [10, 501, 22, 37, 100, 999, 87, 351]\n",
    "\n",
    "# List containing even numbers\n",
    "even_numbers = [num for num in list if num % 2 == 0]\n",
    "\n",
    "# List containing odd numbers\n",
    "odd_numbers = [num for num in list if num % 2 != 0]\n",
    "\n",
    "print(\"Even Numbers List:\", even_numbers)\n",
    "print(\"Odd Numbers List:\", odd_numbers)"
   ]
  },
  {
   "cell_type": "code",
   "execution_count": 44,
   "id": "51d6242f",
   "metadata": {},
   "outputs": [
    {
     "name": "stdout",
     "output_type": "stream",
     "text": [
      "Count of Prime Numbers: 1\n",
      "Prime Numbers List: [37]\n"
     ]
    }
   ],
   "source": [
    "# 2. Given a Python List [10, 501, 22, 37, 100, 999, 87, 351] your task is to Count all the Prime Numbers and \n",
    "# create a new Python List which will contain all the Prime Numbers in it?\n",
    "\n",
    "list = [10, 501, 22, 37, 100, 999, 87, 351]\n",
    "\n",
    "# Function to check if a number is prime\n",
    "def is_prime(n):\n",
    "    if n <= 1:\n",
    "        return False\n",
    "    for i in range(2, int(n**0.5) + 1):\n",
    "        if n % i == 0:\n",
    "            return False\n",
    "    return True\n",
    "\n",
    "# Count of prime numbers\n",
    "count_of_primes = len(prime_numbers)\n",
    "\n",
    "# List containing prime numbers\n",
    "prime_numbers = [num for num in list if is_prime(num)]\n",
    "\n",
    "print(\"Count of Prime Numbers:\", count_of_primes)\n",
    "print(\"Prime Numbers List:\", prime_numbers)"
   ]
  },
  {
   "cell_type": "code",
   "execution_count": 22,
   "id": "8bd46709",
   "metadata": {},
   "outputs": [
    {
     "name": "stdout",
     "output_type": "stream",
     "text": [
      "Count of Happy Numbers: 2\n"
     ]
    }
   ],
   "source": [
    "# 3. Given a Python List [10, 501, 22, 37, 100, 999, 87, 351] Find out how many numbers are there \n",
    "# in the given Python List which are Happy Numbers?\n",
    "\n",
    "\"\"\" Input: n = 10\n",
    "Output: True\n",
    "10 is Happy Number,\n",
    "1^2 + 0^2 = 1\n",
    "As we reached to 1, 10 is a Happy Number.\n",
    "\n",
    "n = 100\n",
    "Output: True\n",
    "100 is Happy Number,\n",
    "1^2 + 0^2 + 0^2 = 1\n",
    "As we reached to 1, 100 is a Happy Number.\n",
    "\n",
    "Input: n = 501, 22, 37, 999, 87, 351\n",
    "Output: False \"\"\"\n",
    "    \n",
    "def is_happy_number(n):\n",
    "    seen = set()\n",
    "    while n != 1 and n not in seen:\n",
    "        seen.add(n)\n",
    "        n = sum(int(digit) ** 2 for digit in str(n))\n",
    "    return n == 1\n",
    "\n",
    "list = [10, 501, 22, 37, 100, 999, 87, 351]\n",
    "\n",
    "# Count of happy numbers\n",
    "happy_count = 0\n",
    "\n",
    "# Iterating through the given list to count happy numbers\n",
    "for num in given_list:\n",
    "    if is_happy_number(num):\n",
    "        happy_count += 1\n",
    "\n",
    "print(\"Count of Happy Numbers:\", happy_count)"
   ]
  },
  {
   "cell_type": "code",
   "execution_count": 31,
   "id": "acc4ae8d",
   "metadata": {},
   "outputs": [
    {
     "name": "stdout",
     "output_type": "stream",
     "text": [
      "The sum of the first and last digit of 12345 is: 6\n"
     ]
    }
   ],
   "source": [
    "# 4. Write a python program to find the sum of the first and last digit of an integer?\n",
    "\n",
    "def sum_first_and_last_digit(n):\n",
    "    # Convert the integer to a string\n",
    "    num_str = str(n)\n",
    "\n",
    "    # Extract the first and last digits\n",
    "    first_digit = int(num_str[0])\n",
    "    last_digit = int(num_str[-1])\n",
    "\n",
    "    # Calculate the sum of the first and last digits\n",
    "    result = first_digit + last_digit\n",
    "\n",
    "    return result\n",
    "\n",
    "integer = 12345\n",
    "result = sum_first_and_last_digit(integer)\n",
    "print(f\"The sum of the first and last digit of {integer} is: {result}\")"
   ]
  },
  {
   "cell_type": "code",
   "execution_count": 32,
   "id": "be95ec5b",
   "metadata": {},
   "outputs": [
    {
     "name": "stdout",
     "output_type": "stream",
     "text": [
      "The distribution of bags: [8, 10, 11, 13]\n",
      "The minimum difference in mangoes: 5\n"
     ]
    }
   ],
   "source": [
    "# 5. You have been given a list of N integers which represents the number of Mangoes in a bag. Each bag has a variable \n",
    "# number of Mangoes. There are M students in a Guvi class, your task is to distribute the Mangoes in such a way that \n",
    "# each student gets one Bag. The difference between the number of Mangoes in a bag with maximum Mangoes and Bag with \n",
    "# minimum Mangoes given to the student is minimum?\n",
    "\n",
    "def distribute_mangoes(bags, students):\n",
    "    bags.sort()  # Sort the bags in ascending order\n",
    "    n = len(bags)\n",
    "    result = []\n",
    "\n",
    "    for i in range(students):\n",
    "        result.append(bags[i % n])  # Assign bags in a round-robin fashion\n",
    "\n",
    "    max_mangoes = max(result)\n",
    "    min_mangoes = min(result)\n",
    "    difference = max_mangoes - min_mangoes\n",
    "\n",
    "    return result, difference\n",
    "\n",
    "N = [15, 10, 8, 19, 11, 13]\n",
    "M = 4\n",
    "distribution, min_difference = distribute_mangoes(N, M)\n",
    "print(f\"The distribution of bags: {distribution}\")\n",
    "print(f\"The minimum difference in mangoes: {min_difference}\")"
   ]
  },
  {
   "cell_type": "code",
   "execution_count": 45,
   "id": "e6e628ff",
   "metadata": {},
   "outputs": [
    {
     "name": "stdout",
     "output_type": "stream",
     "text": [
      "Duplicates in the three lists: [8, 9]\n"
     ]
    }
   ],
   "source": [
    "# 6. You have been given three lists. Your task is to find the duplicates in the three lists. Write a python program \n",
    "# for the same. You can use your own python lists?\n",
    "\n",
    "# Define three example lists\n",
    "list1 = [1, 2, 3, 4, 5, 6, 7, 8, 9]\n",
    "list2 = [5, 6, 7, 8, 9, 10, 11, 12, 13]\n",
    "list3 = [8, 9, 10, 11, 12, 13, 14, 15, 16]\n",
    "\n",
    "# Find duplicates in the three lists\n",
    "duplicates = []\n",
    "for num in list1:\n",
    "    if num in list2 and num in list3:\n",
    "        duplicates.append(num)\n",
    "\n",
    "# Print the duplicates\n",
    "print(\"Duplicates in the three lists:\", duplicates)"
   ]
  },
  {
   "cell_type": "code",
   "execution_count": 36,
   "id": "32158aa4",
   "metadata": {},
   "outputs": [
    {
     "name": "stdout",
     "output_type": "stream",
     "text": [
      "The first non-repeating element is: 5\n"
     ]
    }
   ],
   "source": [
    "# 7. Write a python program to find the first non-repeating elements in a given list of integers?\n",
    "\n",
    "def first_non_repeating(nums):\n",
    "    freq = {}\n",
    "    for num in nums:\n",
    "        if num in freq:\n",
    "            freq[num] += 1\n",
    "        else:\n",
    "            freq[num] = 1\n",
    "\n",
    "    for num in nums:\n",
    "        if freq[num] == 1:\n",
    "            return num\n",
    "\n",
    "    return None  # If no non-repeating element is found\n",
    "\n",
    "my_list = [2, 3, 4, 2, 5, 4, 6, 7, 3]\n",
    "result = first_non_repeating(my_list)\n",
    "print(f\"The first non-repeating element is: {result}\")"
   ]
  },
  {
   "cell_type": "code",
   "execution_count": 37,
   "id": "2db3a69c",
   "metadata": {},
   "outputs": [
    {
     "name": "stdout",
     "output_type": "stream",
     "text": [
      "The minimum element in the list is: 1\n"
     ]
    }
   ],
   "source": [
    "# 8. Write a python program to find the minimum element in a rated and sorted list?\n",
    "\n",
    "def find_minimum_element(sorted_list):\n",
    "    if sorted_list:\n",
    "        return sorted_list[0]\n",
    "    else:\n",
    "        return None  # Return None for an empty list\n",
    "\n",
    "my_sorted_list = [1, 2, 3, 4, 5]\n",
    "minimum_element = find_minimum_element(my_sorted_list)\n",
    "print(f\"The minimum element in the list is: {minimum_element}\")"
   ]
  },
  {
   "cell_type": "code",
   "execution_count": 42,
   "id": "91a28e6f",
   "metadata": {},
   "outputs": [
    {
     "name": "stdout",
     "output_type": "stream",
     "text": [
      "The triplet with sum 59 is: [20, 30, 9]\n"
     ]
    }
   ],
   "source": [
    "# 9. You have been given a Python list [10, 20, 30, 9] and a value of 59. Write a python program to find the triplet\n",
    "# in the list whose sum is equal to the given value?\n",
    "\n",
    "def find_triplet(nums, target):\n",
    "    n = len(nums)\n",
    "    for i in range(n - 2):\n",
    "        left = i + 1\n",
    "        right = n - 1\n",
    "        while left < right:\n",
    "            current_sum = nums[i] + nums[left] + nums[right]\n",
    "            if current_sum == target:\n",
    "                return [nums[i], nums[left], nums[right]]\n",
    "            elif current_sum < target:\n",
    "                left += 1\n",
    "            else:\n",
    "                right -= 1\n",
    "    return None\n",
    "\n",
    "my_list = [10, 20, 30, 9]\n",
    "target_value = 59\n",
    "result = find_triplet(my_list, target_value)\n",
    "if result:\n",
    "    print(f\"The triplet with sum {target_value} is: {result}\")\n",
    "else:\n",
    "    print(\"No such triplet found.\")"
   ]
  },
  {
   "cell_type": "code",
   "execution_count": 43,
   "id": "e17cecba",
   "metadata": {},
   "outputs": [
    {
     "name": "stdout",
     "output_type": "stream",
     "text": [
      "Sub-list with zero sum exists.\n"
     ]
    }
   ],
   "source": [
    "# 10. Given a list [4, 2, -3, 1, 6] Wite a python program to find if there is a sub-list with sum equal to Zero?\n",
    "\n",
    "def sub_list_with_zero_sum(nums):\n",
    "    prefix_sum = 0\n",
    "    prefix_sums_set = set()\n",
    "\n",
    "    for num in nums:\n",
    "        prefix_sum += num\n",
    "        if prefix_sum in prefix_sums_set or prefix_sum == 0:\n",
    "            return True\n",
    "        prefix_sums_set.add(prefix_sum)\n",
    "\n",
    "    return False\n",
    "\n",
    "my_list = [4, 2, -3, 1, 6]\n",
    "if sub_list_with_zero_sum(my_list):\n",
    "    print(\"Sub-list with zero sum exists.\")\n",
    "else:\n",
    "    print(\"No sub-list with zero sum.\")"
   ]
  }
 ],
 "metadata": {
  "kernelspec": {
   "display_name": "Python 3 (ipykernel)",
   "language": "python",
   "name": "python3"
  },
  "language_info": {
   "codemirror_mode": {
    "name": "ipython",
    "version": 3
   },
   "file_extension": ".py",
   "mimetype": "text/x-python",
   "name": "python",
   "nbconvert_exporter": "python",
   "pygments_lexer": "ipython3",
   "version": "3.11.4"
  }
 },
 "nbformat": 4,
 "nbformat_minor": 5
}
